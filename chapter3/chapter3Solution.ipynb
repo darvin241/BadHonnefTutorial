{
 "cells": [
  {
   "cell_type": "code",
   "execution_count": 26,
   "metadata": {
    "scrolled": true
   },
   "outputs": [],
   "source": [
    "from chapter1 import *\n",
    "from chapter2 import minAcC\n",
    "from time import time\n",
    "import matplotlib.pyplot as plt"
   ]
  },
  {
   "cell_type": "markdown",
   "metadata": {},
   "source": [
    "We can also construct the partition function of a two-dimensional Hamiltonian by considering for example the 2D Ising Hamiltonian. By placing Boltzmann weights on the edges of an infinite square lattice, we now try to find an MPS acting as the fixed point for the Matrix Product Operator given by these Boltzmann weights. Finding this MPS can be done by maximizing the overlap, using VUMPS."
   ]
  },
  {
   "cell_type": "code",
   "execution_count": 27,
   "metadata": {},
   "outputs": [],
   "source": [
    "### vertices of Ising square lattice\n",
    "def isingVertex(d, n):\n",
    "    out = np.zeros( (d,) * n )\n",
    "    out[tuple([np.arange(d)] * n)] = 1\n",
    "    return out\n",
    "\n",
    "### MPO tensor containing Boltzmann weights, distributed over all vertices equally\n",
    "def isingO(beta, J):\n",
    "    c, s = np.sqrt(np.cosh(beta*J)), np.sqrt(np.sinh(beta*J))\n",
    "    Qsqrt = 1/np.sqrt(2) * np.array([[c+s, c-s],[c-s, c+s]])\n",
    "    O = ncon((Qsqrt, Qsqrt, Qsqrt, Qsqrt, isingVertex(2,4)), ([-1,1], [-2,2], [-3,3], [-4,4], [1,2,3,4]))\n",
    "    return O\n",
    "\n",
    "### Magnetization tensor\n",
    "def isingM(beta, J):\n",
    "    Z = np.array([[1,0],[0,-1]])\n",
    "    c, s = np.sqrt(np.cosh(beta*J)), np.sqrt(np.sinh(beta*J))\n",
    "    \n",
    "    ### square root known explicitly otherwise take square root of matrix numerically\n",
    "    Qsqrt = 1/np.sqrt(2) * np.array([[c+s, c-s],[c-s, c+s]])\n",
    "    vertexNew = ncon((Z, isingVertex(2,4)), ([-1,1], [1,-2,-3,-4]))\n",
    "    M = ncon((Qsqrt, Qsqrt, Qsqrt, Qsqrt, vertexNew), ([-1,1], [-2,2], [-3,3], [-4,4], [1,2,3,4]))\n",
    "    return M"
   ]
  },
  {
   "cell_type": "markdown",
   "metadata": {},
   "source": [
    "The partition function is given by contracting a tensor network consisting of all these rank 4 MPO tensors O, which have dimensions (d,d,d,d). By placing an MPS on the top and bottom layers of this network we can reduce its complexity by imposing that this MPS is a fixed point for the MPO O with eigenvalue 1. We then arrive at a similar MPS form for which we calculate the left fixed point and the right fixed point, this time with an extra MPO tensor O. We start with a random MPS and bring it in the mixed gauge, from there we can contract our tensor network to find the left and right fixed point respectively."
   ]
  },
  {
   "cell_type": "code",
   "execution_count": 28,
   "metadata": {},
   "outputs": [],
   "source": [
    "def leftFixedPointMPO(Al, O, delta):\n",
    "    D = Al.shape[0]\n",
    "    d = Al.shape[1]\n",
    "    transferLeftHandleMPO = lambda v: (ncon((v.reshape((D,d,D)), Al, np.conj(Al), O),([5, 3, 1], [1, 2, -3], [5, 4, -1], [3, 2, -2, 4]))).reshape(-1)\n",
    "    transferLeftMPO = LinearOperator((D**2*d, D**2*d), matvec=transferLeftHandleMPO)\n",
    "    lam, Fl = eigs(transferLeftMPO, k=1, which=\"LM\", tol=delta/10)\n",
    "    return lam, Fl.reshape((D,d,D))\n",
    "\n",
    "\n",
    "def rightFixedPointMPO(Ar, O, delta):\n",
    "    D = Ar.shape[0]\n",
    "    d = Ar.shape[1]\n",
    "    transferRightHandleMPO = lambda v: (ncon((v.reshape(D, d, D), Ar, np.conj(Ar), O), ([1, 3, 5], [-1, 2, 1], [-3, 4, 5], [-2, 2, 3, 4]))).reshape(-1)\n",
    "    transferRightMPO = LinearOperator((D**2*d, D**2*d), matvec=transferRightHandleMPO)\n",
    "    lam, Fr = eigs(transferRightMPO, k=1, which=\"LM\", tol=delta/10)\n",
    "    return lam, Fr.reshape((D,d,D))\n",
    "\n",
    "### overlap to normalize the fixed points\n",
    "def overlapFixedPointsMPO(Fl, Fr, C):\n",
    "    overlap = ncon((Fl, Fr, C, np.conj(C)), ([1, 3, 2], [5, 3, 4], [2, 5], [1, 4]))\n",
    "    return overlap"
   ]
  },
  {
   "cell_type": "markdown",
   "metadata": {},
   "source": [
    "Our tensor network now has a left and right fixed point and we can now use the VUMPS algorithm to find the MPS that maximizes the overlap for the MPO fixed point. For an optimal solution we have that O_Ac(Ac) = AlO_C(C). This leads to the following set of eigenvalue equations for Ac and C: ... Thereto we first construct the operators for which we want to find the eigenvectors."
   ]
  },
  {
   "cell_type": "code",
   "execution_count": 29,
   "metadata": {},
   "outputs": [],
   "source": [
    "def OAc(X, Fl, Fr, O, lam):\n",
    "    return ncon((Fl, Fr, X, O),([-1, 2, 1], [4, 5, -3], [1, 3, 4], [2, 3, 5, -2]))/lam\n",
    "\n",
    "\n",
    "def OC(X, Fl, Fr):\n",
    "    return ncon((Fl, Fr, X), ([-1, 3, 1], [2, 3, -2], [1, 2]))"
   ]
  },
  {
   "cell_type": "markdown",
   "metadata": {},
   "source": [
    "Solving the eigenvalue equations gives us a new Acprime and cPrime"
   ]
  },
  {
   "cell_type": "code",
   "execution_count": 30,
   "metadata": {},
   "outputs": [],
   "source": [
    "def calcNewCenterMPO(Ac, C, Fl, Fr, O, lam, delta):\n",
    "    D = Fl.shape[0]\n",
    "    d = Fl.shape[1]\n",
    "    handleAc = lambda X: (OAc(X.reshape((D,d,D)), Fl, Fr, O, lam)).reshape(-1)\n",
    "    handleAc = LinearOperator((D**2*d, D**2*d), matvec=handleAc)\n",
    "    handleC = lambda X: (OC(X.reshape(D, D), Fl, Fr)).reshape(-1)\n",
    "    handleC = LinearOperator((D**2, D**2), matvec=handleC)\n",
    "    _, AcPrime = eigs(handleAc, k=1, which=\"LM\", v0=Ac.reshape(-1), tol=delta/10)\n",
    "    _, cPrime = eigs(handleC, k=1, which=\"LM\", v0=C.reshape(-1), tol=delta/10)\n",
    "    return AcPrime.reshape((D,d,D)), cPrime.reshape((D,D))"
   ]
  },
  {
   "cell_type": "markdown",
   "metadata": {},
   "source": [
    "And after retrieving Ac and C we can use the same minAcC function to iterate the whole procedure until convergence. The partition function is eventually given by the fixed point eigenvalue lambda. To check this we define some functions calculating the free energy and the magnetization for the simulation and the exact solution."
   ]
  },
  {
   "cell_type": "code",
   "execution_count": 31,
   "metadata": {},
   "outputs": [],
   "source": [
    "def freeEnergyDensity(beta, lam):\n",
    "    return -np.log(lam) / beta\n",
    "\n",
    "\n",
    "def isingMagnetization(beta, J, Ac, Fl, Fr):\n",
    "    return ncon((Fl, Ac, isingM(beta, J), np.conj(Ac), Fr), ([1, 3, 2], [2,7,5],[3,7,8,6],[1,6,4], [5,8,4]))\n",
    "\n",
    "\n",
    "def isingZ(beta, J, Ac, Fl, Fr):\n",
    "    return ncon((Fl, Ac, isingO(beta, J), np.conj(Ac), Fr), ([1, 3, 2], [2,7,5],[3,7,8,6],[1,6,4], [5,8,4]))\n",
    "\n",
    "\n",
    "def isingExact(beta, J):\n",
    "    theta = np.arange(0, np.pi/2, 1e-6)\n",
    "    x = 2 * np.sinh(2 * J * beta) / np.cosh(2 * J * beta) ** 2\n",
    "    if 1 - (np.sinh(2 * J * beta)) ** (-4) > 0:\n",
    "        magnetization = (1 - (np.sinh(2 * J * beta)) ** (-4)) ** (1 / 8)\n",
    "    else:\n",
    "        magnetization = 0\n",
    "    free = -1 / beta * (np.log(2 * np.cosh(2 * J * beta)) + 1 / np.pi * np.trapz(np.log(1 / 2 * (1 + np.sqrt(1 - x ** 2 * np.sin(theta) ** 2))), theta))\n",
    "    K = np.trapz(1 / np.sqrt(1 - x ** 2 * np.sin(theta) ** 2), theta)\n",
    "    energy = -J * np.cosh(2 * J * beta) / np.sinh(2 * J * beta) * (1 + 2 / np.pi * (2 * np.tanh(2 * J * beta) ** 2 - 1) * K)\n",
    "    return magnetization, free, energy"
   ]
  },
  {
   "cell_type": "markdown",
   "metadata": {},
   "source": [
    "Calculating the partition function then becomes an iterative procedure."
   ]
  },
  {
   "cell_type": "code",
   "execution_count": 32,
   "metadata": {},
   "outputs": [
    {
     "name": "stdout",
     "output_type": "stream",
     "text": [
      "Bond dimension: D = 12\n",
      "Time for VUMPS optimization: 0.16802406311035156 s\n",
      "Iterations needed: 3\n",
      "Computed free energy: -2.000348283700708\n",
      "Exact free energy: -2.0003482913224837\n"
     ]
    }
   ],
   "source": [
    "### test vumps for 2d ising partition function\n",
    "D = 12\n",
    "d = 2\n",
    "\n",
    "print('Bond dimension: D =', D)\n",
    "\n",
    "beta = 1 # critical point: 0.440686793509772\n",
    "\n",
    "A = createMPS(D, d)\n",
    "\n",
    "### bring MPS in mixed gauge\n",
    "Al, Ac, Ar, C = mixedCanonical(A)\n",
    "\n",
    "O = isingO(beta, 1)\n",
    "delta = 1e-4\n",
    "tol = 1e-5\n",
    "flag = 1\n",
    "i = 0\n",
    "t0 = time()\n",
    "\n",
    "### iteration\n",
    "while flag:\n",
    "    lam, Fl = leftFixedPointMPO(Al, O, delta)\n",
    "    _ , Fr = rightFixedPointMPO(Ar, O, delta)\n",
    "    Fl /= overlapFixedPointsMPO(Fl, Fr, C)\n",
    "    lam = np.real(lam)[0]\n",
    "    AcTilde, cTilde = calcNewCenterMPO(Ac, C, Fl, Fr, O, lam, delta)\n",
    "    AlTilde, AcTilde, ArTilde, cTilde = minAcC(AcTilde, cTilde)\n",
    "    delta = np.linalg.norm(OAc(Ac, Fl, Fr, O, lam) - ncon((Al, OC(C, Fl, Fr)), ([-1, -2, 1], [1, -3])))\n",
    "    Al, Ac, Ar, C = AlTilde, AcTilde, ArTilde, cTilde\n",
    "    i += 1\n",
    "    if delta < tol:\n",
    "        flag = 0\n",
    "\n",
    "print('Time for VUMPS optimization:', time()-t0, 's')\n",
    "print('Iterations needed:', i)\n",
    "freeEnergy = freeEnergyDensity(beta, lam)\n",
    "freeEnergyExact = isingExact(beta, 1)[1]\n",
    "print('Computed free energy:', freeEnergy)\n",
    "print('Exact free energy:', freeEnergyExact)"
   ]
  },
  {
   "cell_type": "markdown",
   "metadata": {},
   "source": [
    "Some plots for the free energy density and the magnetization"
   ]
  },
  {
   "cell_type": "code",
   "execution_count": 35,
   "metadata": {},
   "outputs": [
    {
     "data": {
      "text/plain": [
       "<matplotlib.legend.Legend at 0x7fd60aac9cf8>"
      ]
     },
     "execution_count": 35,
     "metadata": {},
     "output_type": "execute_result"
    },
    {
     "data": {
      "image/png": "[encoded data removed]",
      "text/plain": [
       "<Figure size 432x288 with 1 Axes>"
      ]
     },
     "metadata": {
      "needs_background": "light"
     },
     "output_type": "display_data"
    },
    {
     "data": {
      "image/png": "[encoded data removed]",
      "text/plain": [
       "<Figure size 432x288 with 1 Axes>"
      ]
     },
     "metadata": {
      "needs_background": "light"
     },
     "output_type": "display_data"
    }
   ],
   "source": [
    "D = 12\n",
    "d = 2\n",
    "J = 1\n",
    "\n",
    "print('Bond dimension: D =', D)\n",
    "A = createMPS(D, d)\n",
    "Al, Ar, Ac, C = mixedCanonical(A)\n",
    "# optimization parameters\n",
    "tol = 1e-5\n",
    "\n",
    "T_array = np.linspace(0.5,3,100)\n",
    "magnetizations = []\n",
    "magnetizations_exact = []\n",
    "frees = []\n",
    "frees_exact = []\n",
    "\n",
    "for T in T_array:\n",
    "    beta = 1/T\n",
    "    O = isingO(beta, J)\n",
    "    t0 = time()\n",
    "    delta = 1e-4\n",
    "    flag = 1\n",
    "    i = 0\n",
    "    while flag:\n",
    "        lam, Fl = leftFixedPointMPO(Al, O, delta)\n",
    "        _ , Fr = rightFixedPointMPO(Ar, O, delta)\n",
    "        Fl /= overlapFixedPointsMPO(Fl, Fr, C)\n",
    "        lam = np.real(lam)[0]\n",
    "        AcTilde, cTilde = calcNewCenterMPO(Ac, C, Fl, Fr, O, lam, delta)\n",
    "        AlTilde, AcTilde, ArTilde, cTilde = minAcC(AcTilde, cTilde)\n",
    "        delta = np.linalg.norm(OAc(Ac, Fl, Fr, O, lam) - ncon((Al, OC(C, Fl, Fr)), ([-1, -2, 1], [1, -3])))\n",
    "        Al, Ac, Ar, C = AlTilde, AcTilde, ArTilde, cTilde\n",
    "        i += 1\n",
    "        if delta < tol:\n",
    "            flag = 0\n",
    "            \n",
    "    print('##############')\n",
    "    print('T={}'.format(T))\n",
    "    print('Time for VUMPS optimization:', time()-t0, 's')\n",
    "    print('Iterations needed:', i)\n",
    "    freeEnergy = freeEnergyDensity(beta, lam)\n",
    "    freeEnergyExact = isingExact(beta, J)[1]\n",
    "    print('Computed free energy:', freeEnergy)\n",
    "    print('Exact free energy:', freeEnergyExact)\n",
    "    print('##############')\n",
    "    magnetizations.append(abs(isingMagnetization(beta, J, Ac, Fl, Fr)/isingZ(beta, J, Ac, Fl, Fr)))\n",
    "    magnetizations_exact.append(isingExact(beta, J)[0])\n",
    "\n",
    "    frees.append(freeEnergyDensity(beta, lam))\n",
    "    frees_exact.append(isingExact(beta, J)[1])\n",
    "\n",
    "plt.figure()\n",
    "plt.grid\n",
    "plt.xlabel(r'$T$')\n",
    "plt.ylabel(r'$<M>$')\n",
    "plt.scatter([T for T in T_array], magnetizations, label = 'D={}'.format(D), c=\"hotpink\", marker=\"^\")\n",
    "plt.plot([T for T in T_array], magnetizations_exact, label = 'exact')\n",
    "plt.legend()\n",
    "plt.figure()\n",
    "plt.grid\n",
    "plt.xlabel(r'$T$')\n",
    "plt.ylabel(r'$f$')\n",
    "plt.scatter([T for T in T_array], frees, label = 'D={}'.format(D), c=\"hotpink\", marker=\"^\")\n",
    "plt.plot([T for T in T_array], frees_exact, label = 'exact')\n",
    "plt.legend()"
   ]
  },
  {
   "cell_type": "code",
   "execution_count": null,
   "metadata": {},
   "outputs": [],
   "source": []
  }
 ],
 "metadata": {
  "kernelspec": {
   "display_name": "Python 3",
   "language": "python",
   "name": "python3"
  },
  "language_info": {
   "codemirror_mode": {
    "name": "ipython",
    "version": 3
   },
   "file_extension": ".py",
   "mimetype": "text/x-python",
   "name": "python",
   "nbconvert_exporter": "python",
   "pygments_lexer": "ipython3",
   "version": "3.6.10"
  }
 },
 "nbformat": 4,
 "nbformat_minor": 4
}
