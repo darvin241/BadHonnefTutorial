{
 "cells": [
  {
   "cell_type": "code",
   "execution_count": 2,
   "metadata": {},
   "outputs": [],
   "source": [
    "from tutorialFunctions import *"
   ]
  },
  {
   "cell_type": "markdown",
   "metadata": {},
   "source": [
    "# Tangent-space methods for uniform matrix product states\n",
    "## 1. Matrix product states in the thermodynamic limit\n",
    "### 1.1 Normalisation\n",
    "We start by considering a uniform MPS in the thermodynamic limit, which is defined by \n",
    "$$ |\\Psi(A)> = \\sum_i^d \\nu_L^\\dagger \\left[ \\prod_{m\\in Z} A_i \\right]\\nu_R |i>. $$\n",
    "\n",
    "Here, $A_i$ are complex matrices of size $D \\times D$, for every entry of the index $d$. This allows for the interpretation of the object $A$ as a three-legged tensor of dimensions $D\\times d \\times D$, where we will refer to $D$ as the bond dimension and $d$ as the physical dimension. With this object and the diagrammatic language of tensor networks, we can represent the state as\n",
    "\n",
    "![image.png](img/MPSstate.png)\n",
    "\n",
    "Thus, we initialise and represent a uniform MPS state as follows:"
   ]
  },
  {
   "cell_type": "code",
   "execution_count": 3,
   "metadata": {},
   "outputs": [],
   "source": [
    "d = 3 # physical dimension\n",
    "D = 5 # bond dimension\n",
    "A = createMPS(D,d)"
   ]
  },
  {
   "cell_type": "markdown",
   "metadata": {},
   "source": [
    "One of the most relevant objects in all our calculations will be the transfer matrix, defined as\n",
    "\n",
    "![image.png](img/transferMatrix.png)\n",
    "\n",
    "where we will be using the convention of ordering the legs as\n",
    "1. top left\n",
    "2. bottom left\n",
    "3. top right\n",
    "4. bottom right"
   ]
  },
  {
   "cell_type": "code",
   "execution_count": 1,
   "metadata": {
    "scrolled": true
   },
   "outputs": [
    {
     "ename": "NameError",
     "evalue": "name 'createTransfer' is not defined",
     "output_type": "error",
     "traceback": [
      "\u001b[1;31m---------------------------------------------------------------------------\u001b[0m",
      "\u001b[1;31mNameError\u001b[0m                                 Traceback (most recent call last)",
      "\u001b[1;32m<ipython-input-1-8d8dcb863566>\u001b[0m in \u001b[0;36m<module>\u001b[1;34m()\u001b[0m\n\u001b[1;32m----> 1\u001b[1;33m \u001b[0mE\u001b[0m \u001b[1;33m=\u001b[0m \u001b[0mcreateTransfer\u001b[0m\u001b[1;33m(\u001b[0m\u001b[0mA\u001b[0m\u001b[1;33m)\u001b[0m\u001b[1;33m\u001b[0m\u001b[0m\n\u001b[0m",
      "\u001b[1;31mNameError\u001b[0m: name 'createTransfer' is not defined"
     ]
    }
   ],
   "source": [
    "E = createTransfer(A)"
   ]
  },
  {
   "cell_type": "markdown",
   "metadata": {},
   "source": [
    "The transfer matrix can be shown to be a completely positive map, such that the leading eigenvalue is a positive number, which we conveniently rescale to unity for a proper normalization of the state in the thermodynamic limit. This means solving the (left and right) eigenvalue equation:\n",
    "![image.png](img/fixedPoints.png)"
   ]
  },
  {
   "cell_type": "markdown",
   "metadata": {},
   "source": [
    "Finally, we may fix the normalisation of the eigenvectors by requiring that their trace is equal to one:\n",
    "![image.png](img/traceNorm.png)"
   ]
  },
  {
   "cell_type": "code",
   "execution_count": 5,
   "metadata": {},
   "outputs": [],
   "source": [
    "lam1, l = leftFixedPointNaive(A)\n",
    "lam2, r = rightFixedPointNaive(A)\n",
    "A = A / np.sqrt(lam1)\n",
    "\n",
    "l, r = normaliseFixedPoints(l, r)"
   ]
  },
  {
   "cell_type": "markdown",
   "metadata": {},
   "source": [
    "If we now require that there is no influence of the boundary on the bulk, we require the overlap of the boundary vectors with the fixed points to equal unity. In this case, we will have properly normalised the MPS:\n",
    "![image.png](img/MPSNormalised.png)"
   ]
  },
  {
   "cell_type": "markdown",
   "metadata": {},
   "source": [
    "### 1.2 Gauge fixing\n",
    "While a single $A$ corresponds to a unique state $|\\Psi(A)>$, the converse is not true, as different tensors may give rise to the same state. This is easily seen by noting that the gauge transform\n",
    "![image.png](img/gaugeTransform.png)\n",
    "leaves the physical state invariant. We may use this freedom in parametrization to impose canonical forms on the MPS tensor $A$."
   ]
  },
  {
   "cell_type": "markdown",
   "metadata": {},
   "source": [
    "We start by considering the left-orthonormal form $A_L$ of an MPS, which has the property that\n",
    "![image.png](img/leftOrthonormal.png)."
   ]
  },
  {
   "cell_type": "markdown",
   "metadata": {},
   "source": [
    "We can find the matrix $L$ that brings $A$ into this form by decomposing the fixed point $l$ as $l = L^\\dagger L$, such that\n",
    "![image.png](img/leftOrthonormal2.png)"
   ]
  },
  {
   "cell_type": "code",
   "execution_count": 6,
   "metadata": {},
   "outputs": [],
   "source": [
    "# I can't seem to get 'naive sqrt' to work, todo\n",
    "\n",
    "L, A_L = leftOrthonormal(A)\n",
    "assert np.allclose(np.einsum('ijk,ijl->kl', A_L, np.conj(A_L)), np.eye(D)), \"A_L not in left-orthonormal form\""
   ]
  },
  {
   "cell_type": "markdown",
   "metadata": {},
   "source": [
    "Furthermore, there is still room for unitary gauge transformations such that we can also bring the right fixed point in diagonal form. Similarly, we can consider the right-orthonormal form $A_R$, where we have\n",
    "![image.png](img/rightOrthonormal.png)"
   ]
  },
  {
   "cell_type": "code",
   "execution_count": 7,
   "metadata": {},
   "outputs": [],
   "source": [
    "R, A_R = rightOrthonormal(A)\n",
    "assert np.allclose(np.einsum('ijk,ljk->il', A_R, np.conj(A_R)), np.eye(D)), \"A_R not in right-orthonormal form\""
   ]
  },
  {
   "cell_type": "markdown",
   "metadata": {},
   "source": [
    "Finally, there is the notion of a mixed gauge for the uniform MPS by choosing a 'center site', bringing the left tensors in left-orthonormal form and the right tensors in right-orthonormal form, and redefining the center tensor as follows:\n",
    "![image.png](img/mixedGauge.png)"
   ]
  },
  {
   "cell_type": "markdown",
   "metadata": {},
   "source": [
    "The mixed gauge has an intuitive interpretation. Defining $C = LR$, this implements the gauge transform that maps the left-orthonormal tensor to the right-orthonormal one, hence defining the center-site tensor $A_C$:\n",
    "![image.png](img/mixedGauge2.png)\n",
    "The above is called the gauge condition and allows us to freely move the center tensor $A_C$ around in the MPS.\n",
    "\n",
    "We can easily check that the above gauge fix holds for our tensors:"
   ]
  },
  {
   "cell_type": "code",
   "execution_count": 8,
   "metadata": {},
   "outputs": [],
   "source": [
    "A_C = np.einsum('ij,jkl,lm->ikm', L, A, R)\n",
    "C = L@R\n",
    "LHS = np.einsum('ijk,kl->ijl', A_L, C)\n",
    "RHS = np.einsum('ij,jkl->ikl', C, A_R)\n",
    "assert np.allclose(LHS, RHS) and np.allclose(RHS, A_C), \"Something went wrong in gauging the MPS\""
   ]
  },
  {
   "cell_type": "markdown",
   "metadata": {},
   "source": [
    "Finally we may perform an SVD of $C = USV^\\dagger$, and taking up $U$ and $V^\\dagger$ in the definition of $A_L$ and $A_R$, such that we are left with a diagonal $C$ on the virtual bonds.\n",
    "![image.png](img/mixedGauge3.png)"
   ]
  },
  {
   "cell_type": "markdown",
   "metadata": {},
   "source": [
    "In fact, this means that we can write down a Schmidt decomposition of the state across an arbitrary bond in the chain, and the diagonal elements $C_l$ are exactly the Schmidt numbers of any bipartition of the MPS. \n",
    "![image.png](img/SchmidtDecomp.png)\n",
    "Hence, we can calculate the bipartite entanglement entropy by \n",
    "$$ S = -\\sum_l C_l^2 \\log(C_l^2) $$"
   ]
  },
  {
   "cell_type": "code",
   "execution_count": 4,
   "metadata": {},
   "outputs": [
    {
     "ename": "NameError",
     "evalue": "name 'C' is not defined",
     "output_type": "error",
     "traceback": [
      "\u001b[1;31m---------------------------------------------------------------------------\u001b[0m",
      "\u001b[1;31mNameError\u001b[0m                                 Traceback (most recent call last)",
      "\u001b[1;32m<ipython-input-4-3d35c35c57de>\u001b[0m in \u001b[0;36m<module>\u001b[1;34m()\u001b[0m\n\u001b[1;32m----> 1\u001b[1;33m \u001b[0mU\u001b[0m\u001b[1;33m,\u001b[0m \u001b[0mS\u001b[0m\u001b[1;33m,\u001b[0m \u001b[0mVdag\u001b[0m \u001b[1;33m=\u001b[0m \u001b[0msvd\u001b[0m\u001b[1;33m(\u001b[0m\u001b[0mC\u001b[0m\u001b[1;33m)\u001b[0m\u001b[1;33m\u001b[0m\u001b[0m\n\u001b[0m\u001b[0;32m      2\u001b[0m \u001b[0mA_L\u001b[0m \u001b[1;33m=\u001b[0m \u001b[0mnp\u001b[0m\u001b[1;33m.\u001b[0m\u001b[0meinsum\u001b[0m\u001b[1;33m(\u001b[0m\u001b[1;34m'ij,jkl,lm->ikm'\u001b[0m\u001b[1;33m,\u001b[0m \u001b[0mnp\u001b[0m\u001b[1;33m.\u001b[0m\u001b[0mconj\u001b[0m\u001b[1;33m(\u001b[0m\u001b[0mU\u001b[0m\u001b[1;33m)\u001b[0m\u001b[1;33m.\u001b[0m\u001b[0mT\u001b[0m\u001b[1;33m,\u001b[0m \u001b[0mA_L\u001b[0m\u001b[1;33m,\u001b[0m \u001b[0mU\u001b[0m\u001b[1;33m)\u001b[0m\u001b[1;33m\u001b[0m\u001b[0m\n\u001b[0;32m      3\u001b[0m \u001b[0mA_R\u001b[0m \u001b[1;33m=\u001b[0m \u001b[0mnp\u001b[0m\u001b[1;33m.\u001b[0m\u001b[0meinsum\u001b[0m\u001b[1;33m(\u001b[0m\u001b[1;34m'ij,jkl,lm->ikm'\u001b[0m\u001b[1;33m,\u001b[0m \u001b[0mVdag\u001b[0m\u001b[1;33m,\u001b[0m \u001b[0mA_R\u001b[0m\u001b[1;33m,\u001b[0m \u001b[0mnp\u001b[0m\u001b[1;33m.\u001b[0m\u001b[0mconj\u001b[0m\u001b[1;33m(\u001b[0m\u001b[0mVdag\u001b[0m\u001b[1;33m)\u001b[0m\u001b[1;33m.\u001b[0m\u001b[0mT\u001b[0m\u001b[1;33m)\u001b[0m\u001b[1;33m\u001b[0m\u001b[0m\n\u001b[0;32m      4\u001b[0m \u001b[0mC\u001b[0m \u001b[1;33m=\u001b[0m \u001b[0mnp\u001b[0m\u001b[1;33m.\u001b[0m\u001b[0mdiag\u001b[0m\u001b[1;33m(\u001b[0m\u001b[0mS\u001b[0m\u001b[1;33m)\u001b[0m\u001b[1;33m\u001b[0m\u001b[0m\n\u001b[0;32m      5\u001b[0m \u001b[0mentropy\u001b[0m \u001b[1;33m=\u001b[0m \u001b[1;33m-\u001b[0m\u001b[0mnp\u001b[0m\u001b[1;33m.\u001b[0m\u001b[0msum\u001b[0m\u001b[1;33m(\u001b[0m\u001b[0mC\u001b[0m\u001b[1;33m**\u001b[0m\u001b[1;36m2\u001b[0m \u001b[1;33m*\u001b[0m \u001b[0mnp\u001b[0m\u001b[1;33m.\u001b[0m\u001b[0mlog\u001b[0m\u001b[1;33m(\u001b[0m\u001b[0mC\u001b[0m\u001b[1;33m)\u001b[0m\u001b[1;33m)\u001b[0m\u001b[1;33m\u001b[0m\u001b[0m\n",
      "\u001b[1;31mNameError\u001b[0m: name 'C' is not defined"
     ]
    }
   ],
   "source": [
    "U, S, Vdag = svd(C)\n",
    "A_L = np.einsum('ij,jkl,lm->ikm', np.conj(U).T, A_L, U)\n",
    "A_R = np.einsum('ij,jkl,lm->ikm', Vdag, A_R, np.conj(Vdag).T)\n",
    "C = np.diag(S)\n",
    "entropy = -np.sum(C**2 * np.log(C))"
   ]
  },
  {
   "cell_type": "markdown",
   "metadata": {},
   "source": [
    "### 1.3 Truncation of a uniform MPS\n",
    "The mixed canonical form is not only useful for finding the entanglement entropy, it also allows for a way to truncate MPS states efficiently. This is done by truncating the Schmidt decomposition, such that the new MPS has a reduced bond dimension for that ond. This truncation can be shown to be optimal in the sense that the norm between the original and the truncated MPS is minimised. The truncated MPS in the mixed gauge is thus:\n",
    "![image.png](img/truncMPS.png)\n",
    "\n",
    "We mention that this is a local optimization, in the sense that it maximizes the local overlap, however not the global overlap. This would require a variational optimization of the following cost function:\n",
    "$$ || ~|\\Psi(A)> - |\\Psi(\\tilde{A})> ||^2 $$\n",
    "We postpone the detailed discussion hereof until later."
   ]
  },
  {
   "cell_type": "code",
   "execution_count": 10,
   "metadata": {},
   "outputs": [],
   "source": [
    "truncatedBondDimension = 2\n",
    "U = U[:,:truncatedBondDimension]\n",
    "Vdag = Vdag[:truncatedBondDimension,:]\n",
    "S = S[:truncatedBondDimension]\n",
    "\n",
    "A_L = np.einsum('ij,jkl,lm->ikm', np.conj(U).T, A_L, U)\n",
    "A_R = np.einsum('ij,jkl,lm->ikm', Vdag, A_R, np.conj(Vdag).T)\n",
    "C = np.diag(S)\n",
    "\n",
    "# probably need to normalise again?"
   ]
  },
  {
   "cell_type": "markdown",
   "metadata": {},
   "source": [
    "### 1.4 Algorithms for finding canonical forms\n",
    "One of the great things of MPS is that they provide efficient approximations of physical states, and for gapped systems they are expected to be exact in the limit $D \\rightarrow \\infty$. The idea is that if we increase the bond dimension enough, we can get to arbitrary precision. However, increasing the bond dimension comes at a numerical cost, as the MPS algorithms scale in $D$. It is possible to ensure that the complexity of all MPS algorithms scales as $O(D^3)$, however this means we need to be a little smarter with the previously encountered algorithms."
   ]
  },
  {
   "cell_type": "code",
   "execution_count": 10,
   "metadata": {},
   "outputs": [],
   "source": [
    "# TODO show and explain the 'smarter algorithms'"
   ]
  },
  {
   "cell_type": "markdown",
   "metadata": {},
   "source": [
    "#### Note:\n",
    "For the remainder of this tutorial, keep in mind that you should always aim to reduce the complexity of your algorithm to $O(D^3)$ in order to keep the computational cost tractable."
   ]
  },
  {
   "cell_type": "markdown",
   "metadata": {},
   "source": [
    "### 1.5 Computing expectation values \n",
    "Having described the states in different gauges, we want to use these to determine the expectation values of extensive operators:\n",
    "$$ O = \\frac{1}{Z} \\sum_{n\\in Z} O_n $$\n",
    "\n",
    "If we work with properly normalized MPS, the expectation value per site of a one-body operator (such as an order parameter e.g. $X_i$) is then found by considering the following contraction:\n",
    "![image.png](img/expValue.png)"
   ]
  },
  {
   "cell_type": "markdown",
   "metadata": {},
   "source": [
    "If we use the uniform gauge, we can use the fixed points of the transfer matrix to collapse everything on the left and right, such that we are left with the contraction:\n",
    "![image.png](img/expValue2.png)"
   ]
  },
  {
   "cell_type": "code",
   "execution_count": 11,
   "metadata": {},
   "outputs": [],
   "source": [
    "O = np.random.rand(d,d) + 1.0j*np.random.rand(d,d)\n",
    "# convention from top to bottom\n",
    "\n",
    "\n",
    "# TODO calculate expectation value uniform gauge"
   ]
  },
  {
   "cell_type": "markdown",
   "metadata": {},
   "source": [
    "However, in the mixed gauge, we can locate the center site where the operator is acting, and then contract everything to the left and right to the identity, such that we find\n",
    "![image.png](img/expValue3.png)"
   ]
  },
  {
   "cell_type": "code",
   "execution_count": 12,
   "metadata": {},
   "outputs": [],
   "source": [
    "# TODO calculate expectation value mixed gauge"
   ]
  },
  {
   "cell_type": "markdown",
   "metadata": {},
   "source": [
    "This procedure generalises easily to operators that act on multiple sites. In particular, the Hamiltonian $h$ can be evaluated as\n",
    "![image.png](img/hamExpVal.png)\n",
    "#this is not correct, the contribution where Ac stands on the right is missing"
   ]
  },
  {
   "cell_type": "code",
   "execution_count": 32,
   "metadata": {},
   "outputs": [],
   "source": [
    "# INCOMPLETE\n",
    "Jx, Jy, Jz, h = 1, 1, 1, 1\n",
    "H = Heisenberg(Jx, Jy, Jz, h)\n",
    "# todo reshape and check ordering (what does kron use? -> kornecker gives after reshape i k\n",
    "#                                                                                       j l)\n",
    "\n",
    "def ExpVal2(H, A, LeftFixed, RightFixed):\n",
    "    #calculate the expectation value of the hamiltonian H (top left - top right - bottom left - bottom right)\n",
    "    #that acts on two sites\n",
    "    #contraction done from right to left\n",
    "    righthalf = np.einsum('isk,kl,jpl->ispj', A, RightFixed, np.conj(A))\n",
    "    temp = np.einsum('ispj,ahi,byj->ahspyb', righthalf, A, np.conj(A))\n",
    "    temp = np.einsum('ahspyb,ab->hspy', temp, LeftFixed)\n",
    "    e = np.einsum('hspy,hsyp',temp,H)\n",
    "    return e\n",
    "\n",
    "def ExpVal2_mix(H, Al,Ac):\n",
    "    #calculate the expectation value of the hamiltonian H (top left - top right - bottom left - bottom right)\n",
    "    #in mixed canonical form that acts on two sites, contraction done from right to left\n",
    "    #case where Ac on left legs of H\n",
    "    righthalf = np.einsum('isk,jpk->ispj', Ar, np.conj(Ar))\n",
    "    temp = np.einsum('ispj,ahi,ayj->ahspyb', righthalf, Ac, np.conj(Ac))\n",
    "    e = np.einsum('hspy,hsyp',temp,H)\n",
    "    return e"
   ]
  },
  {
   "cell_type": "markdown",
   "metadata": {},
   "source": [
    "### 1.6 Static structure factor"
   ]
  }
 ],
 "metadata": {
  "celltoolbar": "Attachments",
  "kernelspec": {
   "display_name": "Python 3",
   "language": "python",
   "name": "python3"
  },
  "language_info": {
   "codemirror_mode": {
    "name": "ipython",
    "version": 3
   },
   "file_extension": ".py",
   "mimetype": "text/x-python",
   "name": "python",
   "nbconvert_exporter": "python",
   "pygments_lexer": "ipython3",
   "version": "3.6.5"
  }
 },
 "nbformat": 4,
 "nbformat_minor": 4
}
